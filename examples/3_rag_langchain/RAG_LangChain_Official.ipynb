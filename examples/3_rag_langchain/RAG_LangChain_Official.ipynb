{
 "cells": [
  {
   "cell_type": "markdown",
   "metadata": {},
   "source": [
    "# LANGCHAIN RAG PIPELINE"
   ]
  },
  {
   "cell_type": "markdown",
   "metadata": {},
   "source": [
    "For this implementation, while the initial steps for classical RAG and Ontology RAG can be unified, implementing RAG with KG requires a separate block of code."
   ]
  },
  {
   "cell_type": "markdown",
   "metadata": {},
   "source": [
    "# CLASSIC RAG AND ONTOLOGY RAG"
   ]
  },
  {
   "cell_type": "markdown",
   "metadata": {},
   "source": [
    "## Import"
   ]
  },
  {
   "cell_type": "code",
   "execution_count": 3,
   "metadata": {},
   "outputs": [],
   "source": [
    "import os\n",
    "import json\n",
    "import nest_asyncio\n",
    "\n",
    "from dotenv import load_dotenv\n",
    "\n",
    "from langchain.text_splitter import RecursiveCharacterTextSplitter \n",
    "from langchain.vectorstores import FAISS  \n",
    "from langchain.chains import RetrievalQA \n",
    "from langchain_openai import ChatOpenAI, OpenAIEmbeddings\n",
    "from langchain.document_loaders import (\n",
    "    TextLoader, \n",
    "    PyPDFLoader, \n",
    "    CSVLoader, \n",
    "    JSONLoader \n",
    ")"
   ]
  },
  {
   "cell_type": "markdown",
   "metadata": {},
   "source": [
    "## Configuration"
   ]
  },
  {
   "cell_type": "code",
   "execution_count": null,
   "metadata": {},
   "outputs": [],
   "source": [
    "# Apply the asyncio patch to allow nested event loops.\n",
    "nest_asyncio.apply()\n",
    "\n",
    "# Load environment variables from a .env file.\n",
    "load_dotenv()\n",
    "\n",
    "# Retrieve the OpenAI API key from the environment variables.\n",
    "openai_api_key = os.getenv(\"OPENAI_API_KEY\")"
   ]
  },
  {
   "cell_type": "markdown",
   "metadata": {},
   "source": [
    "## File loading"
   ]
  },
  {
   "cell_type": "code",
   "execution_count": 4,
   "metadata": {},
   "outputs": [],
   "source": [
    "# Load a PDF document from the specified path using PyPDFLoader.\n",
    "loader = PyPDFLoader('C:/Users/filow/OneDrive/Desktop/Phd/02_Secondo anno/PAPERS/03_Paper_CAiSE_Technical_2025_[Submitted]/OFF_CODE_01_25/document/caise2025_paper_238.pdf')\n",
    "# loader = TextLoader('path/to/your/directory/document.txt')\n",
    "# loader = CSVLoader('path/to/your/directory/document.csv')\n",
    "# loader = JSONLoader('path/to/your/directory/document.json')\n",
    "\n",
    "document = loader.load()\n"
   ]
  },
  {
   "cell_type": "markdown",
   "metadata": {},
   "source": [
    "### Parsing, Embedding, Indexing"
   ]
  },
  {
   "cell_type": "code",
   "execution_count": 5,
   "metadata": {},
   "outputs": [],
   "source": [
    "# Split documents into smaller chunks for easier processing.\n",
    "text_splitter = RecursiveCharacterTextSplitter(\n",
    "    chunk_size=1000, \n",
    "    chunk_overlap=200\n",
    ")\n",
    "\n",
    "# Split the documents into smaller chunks using the text splitter.\n",
    "docs = text_splitter.split_documents(document)\n",
    "\n",
    "# Create embeddings using the \"text-embedding-3-large\" model\n",
    "embeddings = OpenAIEmbeddings(model=\"text-embedding-3-large\")\n",
    "\n",
    "# Create a FAISS vector store from the documents and embeddings for efficient similarity search.\n",
    "vectorstore = FAISS.from_documents(docs, embeddings)\n",
    "\n",
    "# Initialize the ChatOpenAI model with specific configurations for response generation.\n",
    "llm = ChatOpenAI(\n",
    "    model=\"gpt-4o\",              \n",
    "    temperature=0,          # from 0 to 1\n",
    "    max_tokens=2000,        # from 0 to infinity\n",
    "    top_p=0.8,              # from 0 to 1\n",
    "    api_key=openai_api_key)\n",
    "\n",
    "# Set up a RetrievalQA chain for querying\n",
    "qa_chain = RetrievalQA.from_llm(\n",
    "    llm=llm,\n",
    "    retriever=vectorstore.as_retriever(),\n",
    ") "
   ]
  },
  {
   "cell_type": "markdown",
   "metadata": {},
   "source": [
    "## Query and response"
   ]
  },
  {
   "cell_type": "code",
   "execution_count": 6,
   "metadata": {},
   "outputs": [],
   "source": [
    "user_query = input(\"Enter your query: \")\n",
    "response = qa_chain.invoke(user_query)"
   ]
  },
  {
   "cell_type": "markdown",
   "metadata": {},
   "source": [
    "# KG RAG"
   ]
  },
  {
   "cell_type": "markdown",
   "metadata": {},
   "source": [
    "## Import"
   ]
  },
  {
   "cell_type": "code",
   "execution_count": 1,
   "metadata": {},
   "outputs": [],
   "source": [
    "import os\n",
    "\n",
    "from dotenv import load_dotenv\n",
    "from neo4j import GraphDatabase\n",
    "\n",
    "from langchain_openai import ChatOpenAI \n",
    "from langchain.chains import GraphCypherQAChain \n",
    "from langchain.graphs import Neo4jGraph \n",
    "from langchain.prompts import PromptTemplate "
   ]
  },
  {
   "cell_type": "markdown",
   "metadata": {},
   "source": [
    "## Configuration and KG loading"
   ]
  },
  {
   "cell_type": "code",
   "execution_count": null,
   "metadata": {},
   "outputs": [],
   "source": [
    "# Load environment variables from a .env file\n",
    "load_dotenv()\n",
    "\n",
    "# Retrieve API keys and database credentials from a .env file\n",
    "openai_api_key = os.getenv(\"OPENAI_API_KEY\")\n",
    "neo4j_username = os.getenv(\"NEO4J_USERNAME\")\n",
    "neo4j_password = os.getenv(\"NEO4J_PASSWORD\")\n",
    "\n",
    "# Retrieve the Neo4j database URI and set authentication credentials.\n",
    "URI = os.getenv(\"NEO4J_URI\")\n",
    "AUTH = (neo4j_username, neo4j_password) \n",
    "\n",
    "# Initialize the Neo4jGraph connection with enhanced schema support.\n",
    "graph = Neo4jGraph(\n",
    "    url=URI, \n",
    "    username=neo4j_username, \n",
    "    password=neo4j_password, \n",
    "    enhanced_schema=True, \n",
    ")\n",
    "\n",
    "# Define a Cypher query to load CSV data from a specific URL and create nodes/relationships. (comment it if you don't need it)\n",
    "cypher_query = \"\"\"\n",
    "LOAD CSV WITH HEADERS FROM 'specific URL to load CSV file' AS row\n",
    "\n",
    "// Replace the following MERGE clauses with your specific data modeling logic.\n",
    "// Use MERGE to create nodes and relationships based on the data in the CSV.\n",
    "// Add your domain-specific MERGE clauses here\n",
    "\"\"\"\n",
    "graph.query(cypher_query)"
   ]
  },
  {
   "cell_type": "markdown",
   "metadata": {},
   "source": [
    "## Pipeline set-up"
   ]
  },
  {
   "cell_type": "code",
   "execution_count": 3,
   "metadata": {},
   "outputs": [],
   "source": [
    "# Define a custom prompt template for user input, allowing future customization.\n",
    "chat_prompt = PromptTemplate(\n",
    "    input_variables=[\"user_input\"],\n",
    "    template=\"\"  # Template left intentionally blank for customization\n",
    ")\n",
    "\n",
    "# Initialize the OpenAI model with specific configurations for response generation\n",
    "llm = ChatOpenAI(\n",
    "    model=\"gpt-4o\",              \n",
    "    temperature=0,          # from 0 to 1\n",
    "    max_tokens=2000,        # from 0 to infinity\n",
    "    top_p=0.8,              # from 0 to 1\n",
    "    api_key=openai_api_key)\n",
    "\n",
    "# Create a GraphCypherQAChain for querying the Neo4j graph using natural language.\n",
    "chain = GraphCypherQAChain.from_llm(\n",
    "    llm, \n",
    "    graph=graph, \n",
    "    prompt=chat_prompt, \n",
    "    verbose=True, \n",
    "    return_intermediate_steps=True, \n",
    "    validate_cypher=True, \n",
    "    top_k=5, \n",
    "    allow_dangerous_requests=True\n",
    ")"
   ]
  },
  {
   "cell_type": "markdown",
   "metadata": {},
   "source": [
    "## Query and response"
   ]
  },
  {
   "cell_type": "code",
   "execution_count": null,
   "metadata": {},
   "outputs": [],
   "source": [
    "user_query = input(\"Enter your query: \")\n",
    "response = chain.invoke(user_query)"
   ]
  }
 ],
 "metadata": {
  "kernelspec": {
   "display_name": "base",
   "language": "python",
   "name": "python3"
  },
  "language_info": {
   "codemirror_mode": {
    "name": "ipython",
    "version": 3
   },
   "file_extension": ".py",
   "mimetype": "text/x-python",
   "name": "python",
   "nbconvert_exporter": "python",
   "pygments_lexer": "ipython3",
   "version": "3.12.4"
  }
 },
 "nbformat": 4,
 "nbformat_minor": 2
}
